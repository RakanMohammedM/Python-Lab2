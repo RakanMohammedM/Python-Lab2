{
 "cells": [
  {
   "cell_type": "code",
   "execution_count": 1,
   "id": "58c9c88d",
   "metadata": {},
   "outputs": [],
   "source": [
    "movie = \"it\""
   ]
  },
  {
   "cell_type": "code",
   "execution_count": 2,
   "id": "2dc5b40f",
   "metadata": {},
   "outputs": [],
   "source": [
    "rating = 3\n",
    "popularity = 72.65"
   ]
  },
  {
   "cell_type": "code",
   "execution_count": 3,
   "id": "2712a602",
   "metadata": {},
   "outputs": [
    {
     "name": "stdout",
     "output_type": "stream",
     "text": [
      "I recommended it, It is good\n"
     ]
    }
   ],
   "source": [
    "if rating >= 4 and popularity > 80:\n",
    "    print(\"Highly recommended\")\n",
    "elif rating >= 3 and popularity > 70:\n",
    "    print(\"I recommended it, It is good\")\n",
    "elif rating <= 2 and popularity > 60:\n",
    "    print(\"You should check it out!\")\n",
    "else:\n",
    "    print(\"Don't watch it, It is a waste of time\")"
   ]
  }
 ],
 "metadata": {
  "kernelspec": {
   "display_name": "Python 3 (ipykernel)",
   "language": "python",
   "name": "python3"
  },
  "language_info": {
   "codemirror_mode": {
    "name": "ipython",
    "version": 3
   },
   "file_extension": ".py",
   "mimetype": "text/x-python",
   "name": "python",
   "nbconvert_exporter": "python",
   "pygments_lexer": "ipython3",
   "version": "3.11.3"
  }
 },
 "nbformat": 4,
 "nbformat_minor": 5
}
